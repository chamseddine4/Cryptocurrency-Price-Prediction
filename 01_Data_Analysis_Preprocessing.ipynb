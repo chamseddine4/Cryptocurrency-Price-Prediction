{
  "cells": [
    {
      "cell_type": "code",
      "execution_count": 1,
      "metadata": {
        "_cell_guid": "b1076dfc-b9ad-4769-8c92-a6c4dae69d19",
        "_uuid": "8f2839f25d086af736a60e9eeb907d3b93b6e0e5",
        "id": "KVMCHp6GtLBK"
      },
      "outputs": [],
      "source": [
        "# This Python 3 environment comes with many helpful analytics libraries installed\n",
        "# It is defined by the kaggle/python Docker image: https://github.com/kaggle/docker-python\n",
        "# For example, here's several helpful packages to load\n",
        "\n",
        "import numpy as np # linear algebra\n",
        "import pandas as pd # data processing, CSV file I/O (e.g. pd.read_csv)\n",
        "\n",
        "# Input data files are available in the read-only \"../input/\" directory\n",
        "# For example, running this (by clicking run or pressing Shift+Enter) will list all files under the input directory\n",
        "\n",
        "import os\n",
        "for dirname, _, filenames in os.walk('/kaggle/input'):\n",
        "    for filename in filenames:\n",
        "        print(os.path.join(dirname, filename))\n",
        "\n",
        "# You can write up to 20GB to the current directory (/kaggle/working/) that gets preserved as output when you create a version using \"Save & Run All\"\n",
        "# You can also write temporary files to /kaggle/temp/, but they won't be saved outside of the current session"
      ]
    },
    {
      "cell_type": "code",
      "execution_count": 2,
      "metadata": {
        "execution": {
          "iopub.execute_input": "2024-12-08T20:32:06.587204Z",
          "iopub.status.busy": "2024-12-08T20:32:06.586798Z",
          "iopub.status.idle": "2024-12-08T20:32:09.435285Z",
          "shell.execute_reply": "2024-12-08T20:32:09.433950Z",
          "shell.execute_reply.started": "2024-12-08T20:32:06.587167Z"
        },
        "id": "ESjNCU2NtLBM",
        "outputId": "5bb977de-7dc1-4f59-868a-f8d35dd51576",
        "colab": {
          "base_uri": "https://localhost:8080/",
          "height": 356
        }
      },
      "outputs": [
        {
          "output_type": "error",
          "ename": "FileNotFoundError",
          "evalue": "[Errno 2] No such file or directory: '/kaggle/input/dataset/cleaned_BNB-USD.csv'",
          "traceback": [
            "\u001b[0;31m---------------------------------------------------------------------------\u001b[0m",
            "\u001b[0;31mFileNotFoundError\u001b[0m                         Traceback (most recent call last)",
            "\u001b[0;32m<ipython-input-2-f3a391cdda62>\u001b[0m in \u001b[0;36m<cell line: 0>\u001b[0;34m()\u001b[0m\n\u001b[1;32m      4\u001b[0m \u001b[0;34m\u001b[0m\u001b[0m\n\u001b[1;32m      5\u001b[0m \u001b[0;31m# Load the data (adjust paths as needed for your files)\u001b[0m\u001b[0;34m\u001b[0m\u001b[0;34m\u001b[0m\u001b[0m\n\u001b[0;32m----> 6\u001b[0;31m \u001b[0mbnb_data\u001b[0m \u001b[0;34m=\u001b[0m \u001b[0mpd\u001b[0m\u001b[0;34m.\u001b[0m\u001b[0mread_csv\u001b[0m\u001b[0;34m(\u001b[0m\u001b[0;34m'/kaggle/input/dataset/cleaned_BNB-USD.csv'\u001b[0m\u001b[0;34m)\u001b[0m\u001b[0;34m\u001b[0m\u001b[0;34m\u001b[0m\u001b[0m\n\u001b[0m\u001b[1;32m      7\u001b[0m \u001b[0mbtc_data\u001b[0m \u001b[0;34m=\u001b[0m \u001b[0mpd\u001b[0m\u001b[0;34m.\u001b[0m\u001b[0mread_csv\u001b[0m\u001b[0;34m(\u001b[0m\u001b[0;34m'/kaggle/input/dataset/cleaned_BTC-USD.csv'\u001b[0m\u001b[0;34m)\u001b[0m\u001b[0;34m\u001b[0m\u001b[0;34m\u001b[0m\u001b[0m\n\u001b[1;32m      8\u001b[0m \u001b[0mdoge_data\u001b[0m \u001b[0;34m=\u001b[0m \u001b[0mpd\u001b[0m\u001b[0;34m.\u001b[0m\u001b[0mread_csv\u001b[0m\u001b[0;34m(\u001b[0m\u001b[0;34m'/kaggle/input/dataset/cleaned_DOGE-USD.csv'\u001b[0m\u001b[0;34m)\u001b[0m\u001b[0;34m\u001b[0m\u001b[0;34m\u001b[0m\u001b[0m\n",
            "\u001b[0;32m/usr/local/lib/python3.11/dist-packages/pandas/io/parsers/readers.py\u001b[0m in \u001b[0;36mread_csv\u001b[0;34m(filepath_or_buffer, sep, delimiter, header, names, index_col, usecols, dtype, engine, converters, true_values, false_values, skipinitialspace, skiprows, skipfooter, nrows, na_values, keep_default_na, na_filter, verbose, skip_blank_lines, parse_dates, infer_datetime_format, keep_date_col, date_parser, date_format, dayfirst, cache_dates, iterator, chunksize, compression, thousands, decimal, lineterminator, quotechar, quoting, doublequote, escapechar, comment, encoding, encoding_errors, dialect, on_bad_lines, delim_whitespace, low_memory, memory_map, float_precision, storage_options, dtype_backend)\u001b[0m\n\u001b[1;32m   1024\u001b[0m     \u001b[0mkwds\u001b[0m\u001b[0;34m.\u001b[0m\u001b[0mupdate\u001b[0m\u001b[0;34m(\u001b[0m\u001b[0mkwds_defaults\u001b[0m\u001b[0;34m)\u001b[0m\u001b[0;34m\u001b[0m\u001b[0;34m\u001b[0m\u001b[0m\n\u001b[1;32m   1025\u001b[0m \u001b[0;34m\u001b[0m\u001b[0m\n\u001b[0;32m-> 1026\u001b[0;31m     \u001b[0;32mreturn\u001b[0m \u001b[0m_read\u001b[0m\u001b[0;34m(\u001b[0m\u001b[0mfilepath_or_buffer\u001b[0m\u001b[0;34m,\u001b[0m \u001b[0mkwds\u001b[0m\u001b[0;34m)\u001b[0m\u001b[0;34m\u001b[0m\u001b[0;34m\u001b[0m\u001b[0m\n\u001b[0m\u001b[1;32m   1027\u001b[0m \u001b[0;34m\u001b[0m\u001b[0m\n\u001b[1;32m   1028\u001b[0m \u001b[0;34m\u001b[0m\u001b[0m\n",
            "\u001b[0;32m/usr/local/lib/python3.11/dist-packages/pandas/io/parsers/readers.py\u001b[0m in \u001b[0;36m_read\u001b[0;34m(filepath_or_buffer, kwds)\u001b[0m\n\u001b[1;32m    618\u001b[0m \u001b[0;34m\u001b[0m\u001b[0m\n\u001b[1;32m    619\u001b[0m     \u001b[0;31m# Create the parser.\u001b[0m\u001b[0;34m\u001b[0m\u001b[0;34m\u001b[0m\u001b[0m\n\u001b[0;32m--> 620\u001b[0;31m     \u001b[0mparser\u001b[0m \u001b[0;34m=\u001b[0m \u001b[0mTextFileReader\u001b[0m\u001b[0;34m(\u001b[0m\u001b[0mfilepath_or_buffer\u001b[0m\u001b[0;34m,\u001b[0m \u001b[0;34m**\u001b[0m\u001b[0mkwds\u001b[0m\u001b[0;34m)\u001b[0m\u001b[0;34m\u001b[0m\u001b[0;34m\u001b[0m\u001b[0m\n\u001b[0m\u001b[1;32m    621\u001b[0m \u001b[0;34m\u001b[0m\u001b[0m\n\u001b[1;32m    622\u001b[0m     \u001b[0;32mif\u001b[0m \u001b[0mchunksize\u001b[0m \u001b[0;32mor\u001b[0m \u001b[0miterator\u001b[0m\u001b[0;34m:\u001b[0m\u001b[0;34m\u001b[0m\u001b[0;34m\u001b[0m\u001b[0m\n",
            "\u001b[0;32m/usr/local/lib/python3.11/dist-packages/pandas/io/parsers/readers.py\u001b[0m in \u001b[0;36m__init__\u001b[0;34m(self, f, engine, **kwds)\u001b[0m\n\u001b[1;32m   1618\u001b[0m \u001b[0;34m\u001b[0m\u001b[0m\n\u001b[1;32m   1619\u001b[0m         \u001b[0mself\u001b[0m\u001b[0;34m.\u001b[0m\u001b[0mhandles\u001b[0m\u001b[0;34m:\u001b[0m \u001b[0mIOHandles\u001b[0m \u001b[0;34m|\u001b[0m \u001b[0;32mNone\u001b[0m \u001b[0;34m=\u001b[0m \u001b[0;32mNone\u001b[0m\u001b[0;34m\u001b[0m\u001b[0;34m\u001b[0m\u001b[0m\n\u001b[0;32m-> 1620\u001b[0;31m         \u001b[0mself\u001b[0m\u001b[0;34m.\u001b[0m\u001b[0m_engine\u001b[0m \u001b[0;34m=\u001b[0m \u001b[0mself\u001b[0m\u001b[0;34m.\u001b[0m\u001b[0m_make_engine\u001b[0m\u001b[0;34m(\u001b[0m\u001b[0mf\u001b[0m\u001b[0;34m,\u001b[0m \u001b[0mself\u001b[0m\u001b[0;34m.\u001b[0m\u001b[0mengine\u001b[0m\u001b[0;34m)\u001b[0m\u001b[0;34m\u001b[0m\u001b[0;34m\u001b[0m\u001b[0m\n\u001b[0m\u001b[1;32m   1621\u001b[0m \u001b[0;34m\u001b[0m\u001b[0m\n\u001b[1;32m   1622\u001b[0m     \u001b[0;32mdef\u001b[0m \u001b[0mclose\u001b[0m\u001b[0;34m(\u001b[0m\u001b[0mself\u001b[0m\u001b[0;34m)\u001b[0m \u001b[0;34m->\u001b[0m \u001b[0;32mNone\u001b[0m\u001b[0;34m:\u001b[0m\u001b[0;34m\u001b[0m\u001b[0;34m\u001b[0m\u001b[0m\n",
            "\u001b[0;32m/usr/local/lib/python3.11/dist-packages/pandas/io/parsers/readers.py\u001b[0m in \u001b[0;36m_make_engine\u001b[0;34m(self, f, engine)\u001b[0m\n\u001b[1;32m   1878\u001b[0m                 \u001b[0;32mif\u001b[0m \u001b[0;34m\"b\"\u001b[0m \u001b[0;32mnot\u001b[0m \u001b[0;32min\u001b[0m \u001b[0mmode\u001b[0m\u001b[0;34m:\u001b[0m\u001b[0;34m\u001b[0m\u001b[0;34m\u001b[0m\u001b[0m\n\u001b[1;32m   1879\u001b[0m                     \u001b[0mmode\u001b[0m \u001b[0;34m+=\u001b[0m \u001b[0;34m\"b\"\u001b[0m\u001b[0;34m\u001b[0m\u001b[0;34m\u001b[0m\u001b[0m\n\u001b[0;32m-> 1880\u001b[0;31m             self.handles = get_handle(\n\u001b[0m\u001b[1;32m   1881\u001b[0m                 \u001b[0mf\u001b[0m\u001b[0;34m,\u001b[0m\u001b[0;34m\u001b[0m\u001b[0;34m\u001b[0m\u001b[0m\n\u001b[1;32m   1882\u001b[0m                 \u001b[0mmode\u001b[0m\u001b[0;34m,\u001b[0m\u001b[0;34m\u001b[0m\u001b[0;34m\u001b[0m\u001b[0m\n",
            "\u001b[0;32m/usr/local/lib/python3.11/dist-packages/pandas/io/common.py\u001b[0m in \u001b[0;36mget_handle\u001b[0;34m(path_or_buf, mode, encoding, compression, memory_map, is_text, errors, storage_options)\u001b[0m\n\u001b[1;32m    871\u001b[0m         \u001b[0;32mif\u001b[0m \u001b[0mioargs\u001b[0m\u001b[0;34m.\u001b[0m\u001b[0mencoding\u001b[0m \u001b[0;32mand\u001b[0m \u001b[0;34m\"b\"\u001b[0m \u001b[0;32mnot\u001b[0m \u001b[0;32min\u001b[0m \u001b[0mioargs\u001b[0m\u001b[0;34m.\u001b[0m\u001b[0mmode\u001b[0m\u001b[0;34m:\u001b[0m\u001b[0;34m\u001b[0m\u001b[0;34m\u001b[0m\u001b[0m\n\u001b[1;32m    872\u001b[0m             \u001b[0;31m# Encoding\u001b[0m\u001b[0;34m\u001b[0m\u001b[0;34m\u001b[0m\u001b[0m\n\u001b[0;32m--> 873\u001b[0;31m             handle = open(\n\u001b[0m\u001b[1;32m    874\u001b[0m                 \u001b[0mhandle\u001b[0m\u001b[0;34m,\u001b[0m\u001b[0;34m\u001b[0m\u001b[0;34m\u001b[0m\u001b[0m\n\u001b[1;32m    875\u001b[0m                 \u001b[0mioargs\u001b[0m\u001b[0;34m.\u001b[0m\u001b[0mmode\u001b[0m\u001b[0;34m,\u001b[0m\u001b[0;34m\u001b[0m\u001b[0;34m\u001b[0m\u001b[0m\n",
            "\u001b[0;31mFileNotFoundError\u001b[0m: [Errno 2] No such file or directory: '/kaggle/input/dataset/cleaned_BNB-USD.csv'"
          ]
        }
      ],
      "source": [
        "# Import necessary libraries\n",
        "import pandas as pd\n",
        "import matplotlib.pyplot as plt\n",
        "\n",
        "# Load the data (adjust paths as needed for your files)\n",
        "bnb_data = pd.read_csv('/kaggle/input/dataset/cleaned_BNB-USD.csv')\n",
        "btc_data = pd.read_csv('/kaggle/input/dataset/cleaned_BTC-USD.csv')\n",
        "doge_data = pd.read_csv('/kaggle/input/dataset/cleaned_DOGE-USD.csv')\n",
        "eth_data = pd.read_csv('/kaggle/input/dataset/cleaned_ETH-USD.csv')\n",
        "xlm_data = pd.read_csv('/kaggle/input/dataset/cleaned_XLM-USD (2).csv')\n",
        "xrp_data = pd.read_csv('/kaggle/input/dataset/cleaned_XRP-USD.csv')\n",
        "\n",
        "# Convert the 'Date' columns to datetime format for all datasets\n",
        "bnb_data['Date'] = pd.to_datetime(bnb_data['Date'])\n",
        "btc_data['Date'] = pd.to_datetime(btc_data['Date'])\n",
        "doge_data['Date'] = pd.to_datetime(doge_data['Date'])\n",
        "eth_data['Date'] = pd.to_datetime(eth_data['Date'])\n",
        "xlm_data['Date'] = pd.to_datetime(xlm_data['Date'])\n",
        "xrp_data['Date'] = pd.to_datetime(xrp_data['Date'])\n",
        "\n",
        "# Merge all dataframes on 'Date' (ignoring Solana)\n",
        "merged_data = pd.merge(bnb_data[['Date', 'Close', 'Volume']], btc_data[['Date', 'Close', 'Volume']], on='Date', suffixes=('_BNB', '_BTC'))\n",
        "merged_data = pd.merge(merged_data, doge_data[['Date', 'Close', 'Volume']], on='Date', suffixes=('', '_DOGE'))\n",
        "merged_data = pd.merge(merged_data, eth_data[['Date', 'Close', 'Volume']], on='Date', suffixes=('', '_ETH'))\n",
        "merged_data = pd.merge(merged_data, xlm_data[['Date', 'Close', 'Volume']], on='Date', suffixes=('', '_XLM'))\n",
        "merged_data = pd.merge(merged_data, xrp_data[['Date', 'Close', 'Volume']], on='Date', suffixes=('', '_XRP'))\n",
        "\n",
        "# Rename columns for clarity\n",
        "merged_data.rename(columns={\n",
        "    'Close_BNB': 'BNB_Close',\n",
        "    'Close_BTC': 'BTC_Close',\n",
        "    'Close': 'DOGE_Close',\n",
        "    'Close_ETH': 'ETH_Close',\n",
        "    'Close_XLM': 'XLM_Close',\n",
        "    'Close_XRP': 'XRP_Close',\n",
        "    'Volume_BNB': 'BNB_Volume',\n",
        "    'Volume_BTC': 'BTC_Volume',\n",
        "    'Volume': 'DOGE_Volume',\n",
        "    'Volume_ETH': 'ETH_Volume',\n",
        "    'Volume_XLM': 'XLM_Volume',\n",
        "    'Volume_XRP': 'XRP_Volume'\n",
        "}, inplace=True)\n",
        "\n",
        "# Check the first few rows to verify the data\n",
        "print(merged_data.head())\n",
        "\n",
        "# Ensure the data is starting from the earliest available date\n",
        "print(\"Date Range in Data: \", merged_data['Date'].min(), \" to \", merged_data['Date'].max())\n",
        "\n",
        "# Plot cryptocurrency price performance (Excluding Solana)\n",
        "plt.figure(figsize=(12, 6))\n",
        "\n",
        "for col in ['BNB_Close', 'BTC_Close', 'DOGE_Close', 'ETH_Close', 'XLM_Close', 'XRP_Close']:\n",
        "    plt.plot(merged_data['Date'], merged_data[col], label=col)\n",
        "\n",
        "plt.title('Cryptocurrency Price Performance (Excluding Solana)')\n",
        "plt.xlabel('Date')\n",
        "plt.ylabel('Price (USD)')\n",
        "plt.legend()\n",
        "plt.grid(True)\n",
        "plt.xticks(rotation=45)\n",
        "plt.tight_layout()\n",
        "plt.show()\n",
        "\n",
        "# Plot cryptocurrency volume over time\n",
        "plt.figure(figsize=(12, 6))\n",
        "\n",
        "for col in ['BNB_Volume', 'BTC_Volume', 'DOGE_Volume', 'ETH_Volume', 'XLM_Volume', 'XRP_Volume']:\n",
        "    plt.plot(merged_data['Date'], merged_data[col], label=col)\n",
        "\n",
        "plt.title('Cryptocurrency Volume Over Time')\n",
        "plt.xlabel('Date')\n",
        "plt.ylabel('Volume')\n",
        "plt.legend()\n",
        "plt.grid(True)\n",
        "plt.xticks(rotation=45)\n",
        "plt.tight_layout()\n",
        "plt.show()\n"
      ]
    },
    {
      "cell_type": "code",
      "execution_count": null,
      "metadata": {
        "execution": {
          "iopub.execute_input": "2024-12-08T20:33:01.827711Z",
          "iopub.status.busy": "2024-12-08T20:33:01.826649Z",
          "iopub.status.idle": "2024-12-08T20:33:05.035085Z",
          "shell.execute_reply": "2024-12-08T20:33:05.033780Z",
          "shell.execute_reply.started": "2024-12-08T20:33:01.827632Z"
        },
        "id": "BqqaG6uGtLBN"
      },
      "outputs": [],
      "source": [
        "# Importing libraries\n",
        "import pandas as pd\n",
        "import matplotlib.pyplot as plt\n",
        "import seaborn as sns\n",
        "\n",
        "# Assuming merged_data is already loaded and cleaned\n",
        "# Make sure to calculate the daily returns and cumulative returns\n",
        "\n",
        "# Calculate daily returns for each cryptocurrency (percentage change)\n",
        "merged_data['BNB_Returns'] = merged_data['BNB_Close'].pct_change()\n",
        "merged_data['BTC_Returns'] = merged_data['BTC_Close'].pct_change()\n",
        "merged_data['DOGE_Returns'] = merged_data['DOGE_Close'].pct_change()\n",
        "merged_data['ETH_Returns'] = merged_data['ETH_Close'].pct_change()\n",
        "merged_data['XLM_Returns'] = merged_data['XLM_Close'].pct_change()\n",
        "merged_data['XRP_Returns'] = merged_data['XRP_Close'].pct_change()\n",
        "\n",
        "# Calculate cumulative returns\n",
        "merged_data['BNB_Cumulative'] = (1 + merged_data['BNB_Returns']).cumprod()\n",
        "merged_data['BTC_Cumulative'] = (1 + merged_data['BTC_Returns']).cumprod()\n",
        "merged_data['DOGE_Cumulative'] = (1 + merged_data['DOGE_Returns']).cumprod()\n",
        "merged_data['ETH_Cumulative'] = (1 + merged_data['ETH_Returns']).cumprod()\n",
        "merged_data['XLM_Cumulative'] = (1 + merged_data['XLM_Returns']).cumprod()\n",
        "merged_data['XRP_Cumulative'] = (1 + merged_data['XRP_Returns']).cumprod()\n",
        "\n",
        "# Plot 1: Price Performance Over Time\n",
        "plt.figure(figsize=(14, 7))\n",
        "for col in ['BNB_Close', 'BTC_Close', 'DOGE_Close', 'ETH_Close', 'XLM_Close', 'XRP_Close']:\n",
        "    plt.plot(merged_data['Date'], merged_data[col], label=col)\n",
        "plt.title('Cryptocurrency Price Performance Over Time')\n",
        "plt.xlabel('Date')\n",
        "plt.ylabel('Price (USD)')\n",
        "plt.legend()\n",
        "plt.grid(True)\n",
        "plt.xticks(rotation=45)\n",
        "plt.tight_layout()\n",
        "plt.show()\n",
        "\n",
        "# Plot 2: Daily Returns Over Time\n",
        "plt.figure(figsize=(14, 7))\n",
        "for col in ['BNB_Returns', 'BTC_Returns', 'DOGE_Returns', 'ETH_Returns', 'XLM_Returns', 'XRP_Returns']:\n",
        "    plt.plot(merged_data['Date'], merged_data[col], label=col)\n",
        "plt.title('Daily Returns of Cryptocurrencies Over Time')\n",
        "plt.xlabel('Date')\n",
        "plt.ylabel('Daily Return')\n",
        "plt.legend()\n",
        "plt.grid(True)\n",
        "plt.xticks(rotation=45)\n",
        "plt.tight_layout()\n",
        "plt.show()\n",
        "\n",
        "# Plot 3: Cumulative Returns Over Time\n",
        "plt.figure(figsize=(14, 7))\n",
        "for col in ['BNB_Cumulative', 'BTC_Cumulative', 'DOGE_Cumulative', 'ETH_Cumulative', 'XLM_Cumulative', 'XRP_Cumulative']:\n",
        "    plt.plot(merged_data['Date'], merged_data[col], label=col)\n",
        "plt.title('Cumulative Returns of Cryptocurrencies Over Time')\n",
        "plt.xlabel('Date')\n",
        "plt.ylabel('Cumulative Return')\n",
        "plt.legend()\n",
        "plt.grid(True)\n",
        "plt.xticks(rotation=45)\n",
        "plt.tight_layout()\n",
        "plt.show()\n",
        "\n",
        "# Plot 4: Correlation Heatmap\n",
        "# Calculate correlation matrix for the daily returns\n",
        "corr_matrix = merged_data[['BNB_Returns', 'BTC_Returns', 'DOGE_Returns', 'ETH_Returns', 'XLM_Returns', 'XRP_Returns']].corr()\n",
        "\n",
        "plt.figure(figsize=(10, 7))\n",
        "sns.heatmap(corr_matrix, annot=True, cmap='coolwarm', fmt=\".2f\", linewidths=0.5)\n",
        "plt.title('Cryptocurrency Returns Correlation Heatmap')\n",
        "plt.tight_layout()\n",
        "plt.show()\n"
      ]
    },
    {
      "cell_type": "code",
      "execution_count": null,
      "metadata": {
        "execution": {
          "iopub.execute_input": "2024-12-08T20:33:24.892184Z",
          "iopub.status.busy": "2024-12-08T20:33:24.891626Z",
          "iopub.status.idle": "2024-12-08T20:33:25.505348Z",
          "shell.execute_reply": "2024-12-08T20:33:25.503799Z",
          "shell.execute_reply.started": "2024-12-08T20:33:24.892150Z"
        },
        "id": "_KcwBopNtLBO"
      },
      "outputs": [],
      "source": [
        "# Filter the data for the crash period (March 2020)\n",
        "crash_period = merged_data[(merged_data['Date'] >= '2020-03-01') & (merged_data['Date'] <= '2020-03-31')]\n",
        "\n",
        "# Plot cryptocurrency performance during the crash period (March 2020)\n",
        "plt.figure(figsize=(14, 7))\n",
        "\n",
        "# Plot each cryptocurrency\n",
        "for col in ['BNB_Close', 'BTC_Close', 'DOGE_Close', 'ETH_Close', 'XLM_Close', 'XRP_Close']:\n",
        "    plt.plot(crash_period['Date'], crash_period[col], label=col)\n",
        "\n",
        "# Highlight the crash period with a shaded region (March 2020)\n",
        "plt.axvspan(crash_period['Date'].min(), crash_period['Date'].max(), color='red', alpha=0.1)\n",
        "\n",
        "plt.title('Cryptocurrency Price Performance during Market Crash (March 2020)')\n",
        "plt.xlabel('Date')\n",
        "plt.ylabel('Price (USD)')\n",
        "plt.legend()\n",
        "plt.grid(True)\n",
        "plt.xticks(rotation=45)\n",
        "plt.tight_layout()\n",
        "plt.show()\n"
      ]
    },
    {
      "cell_type": "code",
      "execution_count": null,
      "metadata": {
        "execution": {
          "iopub.execute_input": "2024-12-08T20:33:45.860245Z",
          "iopub.status.busy": "2024-12-08T20:33:45.859857Z",
          "iopub.status.idle": "2024-12-08T20:33:46.484870Z",
          "shell.execute_reply": "2024-12-08T20:33:46.483537Z",
          "shell.execute_reply.started": "2024-12-08T20:33:45.860216Z"
        },
        "id": "GaJVBfOntLBO"
      },
      "outputs": [],
      "source": [
        "# Filter the data for the crash period (March 2020)\n",
        "crash_period = merged_data[(merged_data['Date'] >= '2020-03-01') & (merged_data['Date'] <= '2020-03-31')]\n",
        "\n",
        "# Plot cryptocurrency performance during the crash period (March 2020)\n",
        "plt.figure(figsize=(14, 7))\n",
        "\n",
        "# Plot each cryptocurrency\n",
        "for col in ['BNB_Close', 'DOGE_Close', 'ETH_Close', 'XLM_Close', 'XRP_Close']:\n",
        "    plt.plot(crash_period['Date'], crash_period[col], label=col)\n",
        "\n",
        "# Highlight the crash period with a shaded region (March 2020)\n",
        "plt.axvspan(crash_period['Date'].min(), crash_period['Date'].max(), color='red', alpha=0.1)\n",
        "\n",
        "plt.title('Cryptocurrency Price Performance during Market Crash (March 2020)')\n",
        "plt.xlabel('Date')\n",
        "plt.ylabel('Price (USD)')\n",
        "plt.legend()\n",
        "plt.grid(True)\n",
        "plt.xticks(rotation=45)\n",
        "plt.tight_layout()\n",
        "plt.show()\n"
      ]
    },
    {
      "cell_type": "code",
      "execution_count": null,
      "metadata": {
        "execution": {
          "iopub.execute_input": "2024-12-08T20:34:01.521875Z",
          "iopub.status.busy": "2024-12-08T20:34:01.521350Z",
          "iopub.status.idle": "2024-12-08T20:34:01.700344Z",
          "shell.execute_reply": "2024-12-08T20:34:01.698934Z",
          "shell.execute_reply.started": "2024-12-08T20:34:01.521833Z"
        },
        "id": "Bd8tokWftLBO"
      },
      "outputs": [],
      "source": [
        "# Assuming you have a portfolio with specific holdings, you can create a pie chart\n",
        "# Example portfolio allocation (you can replace these values with your actual holdings)\n",
        "portfolio_values = {\n",
        "    'BNB': 1000,  # Example amount in USD\n",
        "    'BTC': 15000,\n",
        "    'DOGE': 500,\n",
        "    'ETH': 2500,\n",
        "    'XLM': 150,\n",
        "    'XRP': 1000\n",
        "}\n",
        "\n",
        "# Total portfolio value\n",
        "total_value = sum(portfolio_values.values())\n",
        "\n",
        "# Pie chart showing portfolio distribution\n",
        "plt.figure(figsize=(8, 8))\n",
        "plt.pie(portfolio_values.values(), labels=portfolio_values.keys(), autopct='%1.1f%%', startangle=90, colors=sns.color_palette(\"Set2\", len(portfolio_values)))\n",
        "plt.title('Cryptocurrency Portfolio Distribution')\n",
        "plt.axis('equal')  # Equal aspect ratio ensures the pie chart is drawn as a circle.\n",
        "plt.show()\n"
      ]
    },
    {
      "cell_type": "code",
      "execution_count": null,
      "metadata": {
        "execution": {
          "iopub.execute_input": "2024-12-08T20:34:14.954091Z",
          "iopub.status.busy": "2024-12-08T20:34:14.953628Z",
          "iopub.status.idle": "2024-12-08T20:34:15.365084Z",
          "shell.execute_reply": "2024-12-08T20:34:15.363877Z",
          "shell.execute_reply.started": "2024-12-08T20:34:14.954055Z"
        },
        "id": "0XuhEcAPtLBO"
      },
      "outputs": [],
      "source": [
        "# Calculate the annualized standard deviation (volatility) of daily returns\n",
        "volatility = merged_data[['BNB_Returns', 'BTC_Returns', 'DOGE_Returns', 'ETH_Returns', 'XLM_Returns', 'XRP_Returns']].std() * (252**0.5)\n",
        "\n",
        "# Plot the volatility for each cryptocurrency\n",
        "plt.figure(figsize=(10, 6))\n",
        "volatility.plot(kind='bar', color=['blue', 'orange', 'green', 'red', 'brown', 'pink'])\n",
        "plt.title('Annualized Volatility (Risk) of Cryptocurrencies')\n",
        "plt.ylabel('Annualized Volatility')\n",
        "plt.xticks(rotation=45)\n",
        "plt.grid(axis='y', linestyle='--', alpha=0.7)\n",
        "plt.tight_layout()\n",
        "plt.show()\n"
      ]
    },
    {
      "cell_type": "code",
      "execution_count": null,
      "metadata": {
        "execution": {
          "iopub.execute_input": "2024-12-08T20:34:49.441354Z",
          "iopub.status.busy": "2024-12-08T20:34:49.440601Z",
          "iopub.status.idle": "2024-12-08T20:34:51.107789Z",
          "shell.execute_reply": "2024-12-08T20:34:51.106447Z",
          "shell.execute_reply.started": "2024-12-08T20:34:49.441304Z"
        },
        "id": "tL0wivDJtLBP"
      },
      "outputs": [],
      "source": [
        "# Plot histograms of daily returns for each cryptocurrency\n",
        "plt.figure(figsize=(12, 6))\n",
        "\n",
        "merged_data[['BNB_Returns', 'BTC_Returns', 'DOGE_Returns', 'ETH_Returns', 'XLM_Returns', 'XRP_Returns']].hist(bins=50, alpha=0.7, figsize=(12, 6))\n",
        "\n",
        "plt.suptitle('Distribution of Daily Returns for Cryptocurrencies')\n",
        "plt.tight_layout()\n",
        "plt.show()\n"
      ]
    },
    {
      "cell_type": "code",
      "execution_count": null,
      "metadata": {
        "execution": {
          "iopub.execute_input": "2024-12-08T20:35:02.991456Z",
          "iopub.status.busy": "2024-12-08T20:35:02.991064Z",
          "iopub.status.idle": "2024-12-08T20:35:03.567410Z",
          "shell.execute_reply": "2024-12-08T20:35:03.566025Z",
          "shell.execute_reply.started": "2024-12-08T20:35:02.991419Z"
        },
        "id": "59x1AGYftLBP"
      },
      "outputs": [],
      "source": [
        "# Assuming you have a portfolio of different cryptocurrencies\n",
        "portfolio_values = merged_data[['BNB_Cumulative', 'BTC_Cumulative', 'DOGE_Cumulative', 'ETH_Cumulative', 'XLM_Cumulative', 'XRP_Cumulative']]\n",
        "\n",
        "# Plot the stacked area plot\n",
        "plt.figure(figsize=(12, 6))\n",
        "portfolio_values.plot.area(stacked=True, figsize=(12, 6), cmap=\"tab20\")\n",
        "plt.title('Portfolio Allocation Over Time')\n",
        "plt.xlabel('Date')\n",
        "plt.ylabel('Cumulative Value')\n",
        "plt.legend(title='Cryptocurrencies')\n",
        "plt.xticks(rotation=45)\n",
        "plt.grid(True)\n",
        "plt.tight_layout()\n",
        "plt.show()\n"
      ]
    },
    {
      "cell_type": "code",
      "execution_count": null,
      "metadata": {
        "execution": {
          "iopub.execute_input": "2024-12-08T20:35:30.427418Z",
          "iopub.status.busy": "2024-12-08T20:35:30.427009Z",
          "iopub.status.idle": "2024-12-08T20:35:30.850466Z",
          "shell.execute_reply": "2024-12-08T20:35:30.849201Z",
          "shell.execute_reply.started": "2024-12-08T20:35:30.427382Z"
        },
        "id": "8sGh_31ztLBP"
      },
      "outputs": [],
      "source": [
        "# Plot Volume vs Price for Bitcoin (example)\n",
        "plt.figure(figsize=(10, 6))\n",
        "plt.scatter(merged_data['BTC_Close'], merged_data['BTC_Volume'], alpha=0.5, color='blue')\n",
        "plt.title('Volume vs Price (BTC)')\n",
        "plt.xlabel('BTC Price (USD)')\n",
        "plt.ylabel('BTC Volume')\n",
        "plt.grid(True, linestyle='--', alpha=0.7)\n",
        "plt.tight_layout()\n",
        "plt.show()\n"
      ]
    },
    {
      "cell_type": "code",
      "execution_count": null,
      "metadata": {
        "execution": {
          "iopub.execute_input": "2024-12-08T20:35:43.197969Z",
          "iopub.status.busy": "2024-12-08T20:35:43.197514Z",
          "iopub.status.idle": "2024-12-08T20:35:43.431416Z",
          "shell.execute_reply": "2024-12-08T20:35:43.430104Z",
          "shell.execute_reply.started": "2024-12-08T20:35:43.197936Z"
        },
        "id": "qHpQo_5ftLBQ"
      },
      "outputs": [],
      "source": [
        "# Import necessary libraries\n",
        "import pandas as pd\n",
        "import matplotlib.pyplot as plt\n",
        "\n",
        "# Assuming you've already loaded and merged the data as shown before\n",
        "# merged_data contains the volume columns like 'BNB_Volume', 'BTC_Volume', etc.\n",
        "\n",
        "# Sum the volume for each cryptocurrency over the entire dataset\n",
        "volume_sum = {\n",
        "    'BNB': merged_data['BNB_Volume'].sum(),\n",
        "    'BTC': merged_data['BTC_Volume'].sum(),\n",
        "    'DOGE': merged_data['DOGE_Volume'].sum(),\n",
        "    'ETH': merged_data['ETH_Volume'].sum(),\n",
        "    'XLM': merged_data['XLM_Volume'].sum(),\n",
        "    'XRP': merged_data['XRP_Volume'].sum(),\n",
        "}\n",
        "\n",
        "# Convert the dictionary to a pandas Series for easy plotting\n",
        "volume_series = pd.Series(volume_sum)\n",
        "\n",
        "# Create a pie chart showing the distribution of volumes\n",
        "plt.figure(figsize=(8, 8))\n",
        "plt.pie(volume_series, labels=volume_series.index, autopct='%1.1f%%', startangle=140, colors=plt.cm.Paired.colors)\n",
        "plt.title('Cryptocurrency Volume Distribution')\n",
        "plt.axis('equal')  # Equal aspect ratio ensures the pie chart is circular.\n",
        "plt.show()\n"
      ]
    },
    {
      "cell_type": "code",
      "execution_count": null,
      "metadata": {
        "execution": {
          "iopub.execute_input": "2024-12-08T20:35:58.297593Z",
          "iopub.status.busy": "2024-12-08T20:35:58.297224Z",
          "iopub.status.idle": "2024-12-08T20:35:59.262919Z",
          "shell.execute_reply": "2024-12-08T20:35:59.261766Z",
          "shell.execute_reply.started": "2024-12-08T20:35:58.297561Z"
        },
        "id": "mIqe9kUVtLBQ"
      },
      "outputs": [],
      "source": [
        "# Plot: Volume Distribution Histogram for each cryptocurrency\n",
        "plt.figure(figsize=(12, 6))\n",
        "\n",
        "# Plot histograms for each cryptocurrency volume distribution\n",
        "for col in ['BNB', 'BTC', 'DOGE', 'ETH', 'XLM', 'XRP']:\n",
        "    plt.hist(merged_data[f'{col}_Volume'], bins=50, alpha=0.5, label=col)\n",
        "\n",
        "plt.title('Volume Distribution for Cryptocurrencies')\n",
        "plt.xlabel('Volume')\n",
        "plt.ylabel('Frequency')\n",
        "plt.legend()\n",
        "plt.grid(True)\n",
        "plt.tight_layout()\n",
        "plt.show()\n"
      ]
    },
    {
      "cell_type": "code",
      "execution_count": null,
      "metadata": {
        "execution": {
          "iopub.execute_input": "2024-12-08T20:36:14.235558Z",
          "iopub.status.busy": "2024-12-08T20:36:14.235050Z",
          "iopub.status.idle": "2024-12-08T20:36:14.884738Z",
          "shell.execute_reply": "2024-12-08T20:36:14.883469Z",
          "shell.execute_reply.started": "2024-12-08T20:36:14.235511Z"
        },
        "id": "np2QudqRtLBQ"
      },
      "outputs": [],
      "source": [
        "# Calculate the total market volume for each day\n",
        "merged_data['Total_Volume'] = merged_data[['BNB_Volume', 'BTC_Volume', 'DOGE_Volume', 'ETH_Volume', 'XLM_Volume', 'XRP_Volume']].sum(axis=1)\n",
        "\n",
        "# Calculate the percentage volume for each cryptocurrency\n",
        "for col in ['BNB', 'BTC', 'DOGE', 'ETH', 'XLM', 'XRP']:\n",
        "    merged_data[f'{col}_Volume_Percent'] = (merged_data[f'{col}_Volume'] / merged_data['Total_Volume']) * 100\n",
        "\n",
        "# Plot the percentage of total volume for each cryptocurrency\n",
        "plt.figure(figsize=(12, 6))\n",
        "\n",
        "for col in ['BNB', 'BTC', 'DOGE', 'ETH', 'XLM', 'XRP']:\n",
        "    plt.plot(merged_data['Date'], merged_data[f'{col}_Volume_Percent'], label=f'{col} Volume %')\n",
        "\n",
        "plt.title('Cryptocurrency Volume as a Percentage of Total Market Volume')\n",
        "plt.xlabel('Date')\n",
        "plt.ylabel('Volume Percentage (%)')\n",
        "plt.legend()\n",
        "plt.grid(True)\n",
        "plt.xticks(rotation=45)\n",
        "plt.tight_layout()\n",
        "plt.show()\n"
      ]
    },
    {
      "cell_type": "code",
      "execution_count": null,
      "metadata": {
        "execution": {
          "iopub.execute_input": "2024-12-08T20:36:28.320505Z",
          "iopub.status.busy": "2024-12-08T20:36:28.319979Z",
          "iopub.status.idle": "2024-12-08T20:36:29.297474Z",
          "shell.execute_reply": "2024-12-08T20:36:29.296191Z",
          "shell.execute_reply.started": "2024-12-08T20:36:28.320403Z"
        },
        "id": "Er3e1TG0tLBQ"
      },
      "outputs": [],
      "source": [
        "import seaborn as sns\n",
        "\n",
        "# Reshape the data for a heatmap: Date on x-axis, cryptocurrencies on y-axis, and volume as the values\n",
        "heatmap_data = merged_data[['Date', 'BNB_Volume', 'BTC_Volume', 'DOGE_Volume', 'ETH_Volume', 'XLM_Volume', 'XRP_Volume']]\n",
        "heatmap_data.set_index('Date', inplace=True)\n",
        "\n",
        "# Plot heatmap\n",
        "plt.figure(figsize=(12, 6))\n",
        "sns.heatmap(heatmap_data.T, cmap='YlGnBu', cbar_kws={'label': 'Volume'}, annot=False)\n",
        "plt.title('Volume Heatmap for Cryptocurrencies')\n",
        "plt.xlabel('Date')\n",
        "plt.ylabel('Cryptocurrency')\n",
        "plt.xticks(rotation=45)\n",
        "plt.tight_layout()\n",
        "plt.show()\n"
      ]
    },
    {
      "cell_type": "code",
      "execution_count": null,
      "metadata": {
        "id": "QHvtbTCWtLBQ"
      },
      "outputs": [],
      "source": []
    }
  ],
  "metadata": {
    "kaggle": {
      "accelerator": "none",
      "dataSources": [
        {
          "datasetId": 6244483,
          "sourceId": 10120175,
          "sourceType": "datasetVersion"
        }
      ],
      "dockerImageVersionId": 30804,
      "isGpuEnabled": false,
      "isInternetEnabled": true,
      "language": "python",
      "sourceType": "notebook"
    },
    "kernelspec": {
      "display_name": "Python 3 (ipykernel)",
      "language": "python",
      "name": "python3"
    },
    "language_info": {
      "codemirror_mode": {
        "name": "ipython",
        "version": 3
      },
      "file_extension": ".py",
      "mimetype": "text/x-python",
      "name": "python",
      "nbconvert_exporter": "python",
      "pygments_lexer": "ipython3",
      "version": "3.11.5"
    },
    "colab": {
      "provenance": []
    }
  },
  "nbformat": 4,
  "nbformat_minor": 0
}